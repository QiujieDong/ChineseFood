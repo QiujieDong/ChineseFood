{
 "cells": [
  {
   "cell_type": "markdown",
   "metadata": {},
   "source": [
    "# Data Processing\n",
    "\n",
    "The project has five steps:\n",
    "- delet irregular (too large or small (no data)) and non-image data\n",
    "- remove duplicate image\n",
    "- remove irrelevant image\n",
    "- split dataset: create classes.txt, train.txt, test.txt\n",
    "- rename images"
   ]
  },
  {
   "cell_type": "markdown",
   "metadata": {},
   "source": [
    "### Deleting irragular images"
   ]
  },
  {
   "cell_type": "code",
   "execution_count": 1,
   "metadata": {},
   "outputs": [],
   "source": [
    "import os\n",
    "import sys\n",
    "import imghdr\n",
    "\n",
    "class ImageDelet():\n",
    "    def __init__(self):\n",
    "        self.path = '/home/gpu/Project/dataProcess/bun/'\n",
    "        self.imageTypes = ['.jpg', '.jpeg', '.png', '.gif']\n",
    "        \n",
    "    delet_count = 0\n",
    "    \n",
    "    def delet(self):\n",
    "        filelist = os.listdir(self.path)\n",
    "        total_num = len(filelist)\n",
    "\n",
    "        delet_count = 0\n",
    "\n",
    "        for item in filelist:\n",
    "            src = os.path.join(os.path.abspath(self.path), item)\n",
    "            image_type = os.path.splitext(src)[-1]\n",
    "\n",
    "            if not imghdr.what(src):  \n",
    "                os.remove(src)  # delet corrupted image\n",
    "                delet_count += 1 \n",
    "            elif image_type in self.imageTypes:\n",
    "                imageSize = sys.getsizeof(src) # most abnormal image's getsizeof will exceed 150\n",
    "#                 print(imageSize)\n",
    "                if  imageSize > 150:\n",
    "                    os.remove(src)\n",
    "                    delet_count += 1 \n",
    "                else:\n",
    "                    continue\n",
    "            else:\n",
    "                os.remove(src)  # delet non-image data \n",
    "                delet_count += 1 \n",
    "        print ('Total: %d\\nDelet: %d' % (total_num, delet_count))"
   ]
  },
  {
   "cell_type": "code",
   "execution_count": 2,
   "metadata": {},
   "outputs": [
    {
     "name": "stdout",
     "output_type": "stream",
     "text": [
      "Total: 19\n",
      "Delet: 0\n"
     ]
    }
   ],
   "source": [
    "deletImage = ImageDelet()\n",
    "deletImage.delet()"
   ]
  },
  {
   "cell_type": "markdown",
   "metadata": {},
   "source": [
    "### Renaming  the images downloaded by the web crawler."
   ]
  },
  {
   "cell_type": "markdown",
   "metadata": {},
   "source": [
    "### Renaming the images which have been processed."
   ]
  },
  {
   "cell_type": "code",
   "execution_count": 3,
   "metadata": {},
   "outputs": [],
   "source": [
    "class ImageRename():\n",
    "    def __init__(self):\n",
    "        self.path = '/home/gpu/Project/dataProcess/bun/'\n",
    "\n",
    "    def rename(self):\n",
    "        filelist = os.listdir(self.path)\n",
    "        filelist.sort() # if the filelist is not sorted, some file will be replaced when repeating rename result in \n",
    "        total_num = len(filelist)\n",
    "\n",
    "        rename_count = 0\n",
    "\n",
    "        for item in filelist:\n",
    "            src = os.path.join(os.path.abspath(self.path), item)\n",
    "            image_type = os.path.splitext(src)[-1]\n",
    "\n",
    "#             if image_type in self.imageTypes:\n",
    "#                 dst = os.path.join(os.path.abspath(self.path), format(str(rename_count), '0>4s') + '.jpg')\n",
    "            dst = os.path.join(os.path.abspath(self.path), str(rename_count).zfill(4) + image_type)\n",
    "            os.rename(src, dst)\n",
    "            print ('converting %s to %s ...' % (src, dst))\n",
    "            rename_count += 1\n",
    "#             elif os.path.isdir(src):\n",
    "#                 continue\n",
    "#             else:\n",
    "#                 os.remove(src)\n",
    "#                 delet_count += 1\n",
    "                \n",
    "        print ('Total: %d\\nRename: %d' % (total_num, rename_count))"
   ]
  },
  {
   "cell_type": "code",
   "execution_count": 4,
   "metadata": {},
   "outputs": [
    {
     "name": "stdout",
     "output_type": "stream",
     "text": [
      "converting /home/gpu/Project/dataProcess/bun/0000.jpeg to /home/gpu/Project/dataProcess/bun/0000.jpeg ...\n",
      "converting /home/gpu/Project/dataProcess/bun/0001.jpeg to /home/gpu/Project/dataProcess/bun/0001.jpeg ...\n",
      "converting /home/gpu/Project/dataProcess/bun/0002.jpeg to /home/gpu/Project/dataProcess/bun/0002.jpeg ...\n",
      "converting /home/gpu/Project/dataProcess/bun/0003.jpeg to /home/gpu/Project/dataProcess/bun/0003.jpeg ...\n",
      "converting /home/gpu/Project/dataProcess/bun/0004.jpeg to /home/gpu/Project/dataProcess/bun/0004.jpeg ...\n",
      "converting /home/gpu/Project/dataProcess/bun/0005.jpeg to /home/gpu/Project/dataProcess/bun/0005.jpeg ...\n",
      "converting /home/gpu/Project/dataProcess/bun/0006.jpeg to /home/gpu/Project/dataProcess/bun/0006.jpeg ...\n",
      "converting /home/gpu/Project/dataProcess/bun/0007.jpeg to /home/gpu/Project/dataProcess/bun/0007.jpeg ...\n",
      "converting /home/gpu/Project/dataProcess/bun/0008.jpeg to /home/gpu/Project/dataProcess/bun/0008.jpeg ...\n",
      "converting /home/gpu/Project/dataProcess/bun/0009.jpeg to /home/gpu/Project/dataProcess/bun/0009.jpeg ...\n",
      "converting /home/gpu/Project/dataProcess/bun/0010.jpeg to /home/gpu/Project/dataProcess/bun/0010.jpeg ...\n",
      "converting /home/gpu/Project/dataProcess/bun/0011.jpeg to /home/gpu/Project/dataProcess/bun/0011.jpeg ...\n",
      "converting /home/gpu/Project/dataProcess/bun/0012.jpeg to /home/gpu/Project/dataProcess/bun/0012.jpeg ...\n",
      "converting /home/gpu/Project/dataProcess/bun/0013.jpeg to /home/gpu/Project/dataProcess/bun/0013.jpeg ...\n",
      "converting /home/gpu/Project/dataProcess/bun/0014.jpeg to /home/gpu/Project/dataProcess/bun/0014.jpeg ...\n",
      "converting /home/gpu/Project/dataProcess/bun/0015.jpeg to /home/gpu/Project/dataProcess/bun/0015.jpeg ...\n",
      "converting /home/gpu/Project/dataProcess/bun/0016.jpg to /home/gpu/Project/dataProcess/bun/0016.jpg ...\n",
      "converting /home/gpu/Project/dataProcess/bun/0017.jpg to /home/gpu/Project/dataProcess/bun/0017.jpg ...\n",
      "converting /home/gpu/Project/dataProcess/bun/0018.jpeg to /home/gpu/Project/dataProcess/bun/0018.jpeg ...\n",
      "Total: 19\n",
      "Rename: 19\n"
     ]
    }
   ],
   "source": [
    "newName = ImageRename()\n",
    "newName.rename()"
   ]
  },
  {
   "cell_type": "markdown",
   "metadata": {},
   "source": [
    "### Removing the duplicate images "
   ]
  },
  {
   "cell_type": "code",
   "execution_count": 5,
   "metadata": {},
   "outputs": [],
   "source": [
    "# Perceptual Hash Algorithm -  dHash\n",
    "import cv2\n",
    "\n",
    "def dhash(image):\n",
    "    # convert image to 8*8\n",
    "    image = cv2.resize(image, (9, 8), interpolation=cv2.INTER_CUBIC)\n",
    "    # convert image to grayscale\n",
    "    gray = cv2.cvtColor(image, cv2.COLOR_RGB2GRAY)\n",
    "    dhash_str = ''\n",
    "    for i in range(8):\n",
    "        for j in range(8):\n",
    "            if gray[i, j] > gray[i, j + 1]:\n",
    "                dhash_str = dhash_str + '1'\n",
    "            else:\n",
    "                dhash_str = dhash_str + '0'\n",
    "    result = ''\n",
    "    for i in range(0, 64, 4):\n",
    "        result += ''.join('%x' % int(dhash_str[i: i + 4], 2))\n",
    "    return result\n",
    "\n",
    "# calculate the difference between hash1 and hash2\n",
    "def campHash(hash1, hash2):\n",
    "    n = 0\n",
    "    # If the hash length is different, the comparison cannot be made, and -1 is returned.\n",
    "    if len(hash1) != len(hash2):\n",
    "        return -1\n",
    "    # If the hash length is same, traversing hash1 ahd hash2 for comparison.\n",
    "    for i in range(len(hash1)):\n",
    "        if hash1[i] != hash2[i]:\n",
    "            n = n + 1\n",
    "    return n"
   ]
  },
  {
   "cell_type": "code",
   "execution_count": 6,
   "metadata": {},
   "outputs": [],
   "source": [
    "image1 = cv2.imread('/home/gpu/Project/dataProcess/bun/0017.jpg')\n",
    "image2 = cv2.imread('/home/gpu/Project/dataProcess/bun/0018.jpeg')\n",
    "\n",
    "hash1 = dhash(image1)\n",
    "hash2 = dhash(image2)\n",
    "\n",
    "distance_hash = campHash(hash1, hash2)\n",
    "\n",
    "# if campHash == 0, it means that the two images are duplicate images.\n",
    "image2_path = '/home/gpu/Project/dataProcess/bun/0012.jpeg'\n",
    "if distance_hash == 0:\n",
    "    os.remove(image2_path)"
   ]
  },
  {
   "cell_type": "markdown",
   "metadata": {},
   "source": [
    "### Removing the irrelevant  images"
   ]
  },
  {
   "cell_type": "code",
   "execution_count": 7,
   "metadata": {},
   "outputs": [],
   "source": [
    "# Perceptual Hash Algorithm -  dHash\n",
    "import cv2\n",
    "\n",
    "def dhash(image):\n",
    "    # convert image to 8*8\n",
    "    image = cv2.resize(image, (9, 8), interpolation=cv2.INTER_CUBIC)\n",
    "    # convert image to grayscale\n",
    "    gray = cv2.cvtColor(image, cv2.COLOR_RGB2GRAY)\n",
    "    dhash_str = ''\n",
    "    for i in range(8):\n",
    "        for j in range(8):\n",
    "            if gray[i, j] > gray[i, j + 1]:\n",
    "                dhash_str = dhash_str + '1'\n",
    "            else:\n",
    "                dhash_str = dhash_str + '0'\n",
    "    result = ''\n",
    "    for i in range(0, 64, 4):\n",
    "        result += ''.join('%x' % int(dhash_str[i: i + 4], 2))\n",
    "    return result\n",
    "\n",
    "# calculate the difference between hash1 and hash2\n",
    "def campHash(hash1, hash2):\n",
    "    n = 0\n",
    "    #  If the hash length is different, the comparison cannot be made, and -1 is returned.\n",
    "    if len(hash1) != len(hash2):\n",
    "        return -1\n",
    "    # If the hash length is same, traversing hash1 ahd hash2 for comparison.\n",
    "    for i in range(len(hash1)):\n",
    "        if hash1[i] != hash2[i]:\n",
    "            n = n + 1\n",
    "    return n"
   ]
  },
  {
   "cell_type": "code",
   "execution_count": 8,
   "metadata": {},
   "outputs": [],
   "source": [
    "image1 = cv2.imread('/home/gpu/Project/dataProcess/bun/0017.jpg')\n",
    "image2 = cv2.imread('/home/gpu/Project/dataProcess/bun/0013.jpeg')\n",
    "\n",
    "hash1 = dhash(image1)\n",
    "hash2 = dhash(image2)\n",
    "\n",
    "distance_hash = campHash(hash1, hash2)\n",
    "\n",
    "# if campHash > 10, it means that the two images are different classes.\n",
    "image2_path = '/home/gpu/Project/dataProcess/bun/0012.jpeg'\n",
    "if distance_hash > 10:\n",
    "    os.remove(image2_path)"
   ]
  },
  {
   "cell_type": "markdown",
   "metadata": {},
   "source": [
    "###  Spliting dataset"
   ]
  },
  {
   "cell_type": "markdown",
   "metadata": {},
   "source": [
    "#### Generate the train.txt, test.txt, and  classes.txt."
   ]
  },
  {
   "cell_type": "code",
   "execution_count": 9,
   "metadata": {},
   "outputs": [],
   "source": [
    "dataset_path = '/home/gpu/Project/dataProcess/'\n",
    "\n",
    "def gengrateClass(dataset_path):\n",
    "    filelist = os.listdir(dataset_path)\n",
    "    \n",
    "    for file_name in filelist:\n",
    "        if file_name.startswith('.'):\n",
    "            filelist.remove(file_name)\n",
    "    \n",
    "    filelist.sort()\n",
    "    \n",
    "    class_savePath = '/home/gpu/Project/dataProcess/meta/class.txt'\n",
    "    \n",
    "    # If filename does not exist, it will be created automatically. \n",
    "    #'w' means to write data. The original data in the file will be cleared before writing!\n",
    "    with open(class_savePath,'w') as f:\n",
    "        for file_name in filelist:\n",
    "            f.write(file_name)\n",
    "            f.write('\\n')\n",
    "   \n",
    "\n",
    "gengrateClass(dataset_path)"
   ]
  },
  {
   "cell_type": "code",
   "execution_count": 10,
   "metadata": {},
   "outputs": [],
   "source": [
    "import math\n",
    "def splitDataset(dataset_path):\n",
    "    filelist = os.listdir(dataset_path)\n",
    "    \n",
    "    for file_name in filelist:\n",
    "        if file_name.startswith('.'):\n",
    "            filelist.remove(file_name)\n",
    "            \n",
    "    filelist.sort()\n",
    "    \n",
    "    train_savePath = '/home/gpu/Project/dataProcess/meta/train.txt'\n",
    "    test_savePath = '/home/gpu/Project/dataProcess/meta/test.txt'\n",
    "    \n",
    "    for file_name in filelist:\n",
    "        image_path = dataset_path + file_name\n",
    "        image_list = os.listdir(image_path)\n",
    "        \n",
    "        for image_name in image_list:\n",
    "            if image_name.startswith('.'):\n",
    "                image_list.remove(image_name)\n",
    "\n",
    "        image_size = len(image_list)\n",
    "        train_size = math.ceil(image_size * 0.75)\n",
    "        \n",
    "        # If filename does not exist, it will be created automatically. \n",
    "        #'w' means to append data. The original data in the file will not be cleared.\n",
    "        with open(train_savePath,'a') as train:\n",
    "            for file_name in image_list[:train_size]:\n",
    "                train.write(file_name)\n",
    "                train.write('\\n')\n",
    "        with open(test_savePath,'a') as test:\n",
    "            for file_name in image_list[train_size:]:\n",
    "                test.write(file_name)\n",
    "                test.write('\\n')\n",
    "\n",
    "splitDataset(dataset_path)"
   ]
  }
 ],
 "metadata": {
  "kernelspec": {
   "display_name": "Python 3",
   "language": "python",
   "name": "python3"
  },
  "language_info": {
   "codemirror_mode": {
    "name": "ipython",
    "version": 3
   },
   "file_extension": ".py",
   "mimetype": "text/x-python",
   "name": "python",
   "nbconvert_exporter": "python",
   "pygments_lexer": "ipython3",
   "version": "3.7.3"
  }
 },
 "nbformat": 4,
 "nbformat_minor": 2
}
